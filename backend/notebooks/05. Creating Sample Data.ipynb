{
 "cells": [
  {
   "cell_type": "markdown",
   "metadata": {},
   "source": [
    "# **Creating Sample Data**\n",
    "While I'm quickly prototyping functionalities, I don't want to use my entire `conversations.json` - it's too large. Instead, I'll create a sample of it!"
   ]
  },
  {
   "cell_type": "code",
   "execution_count": null,
   "metadata": {},
   "outputs": [],
   "source": [
    "# Change the working directory \n",
    "%cd ..\n",
    "\n",
    "# Enable the autoreload extension, which will automatically load in new code as it's written\n",
    "%load_ext autoreload\n",
    "%autoreload 2\n",
    "\n",
    "# General imports \n",
    "import random\n",
    "import json\n",
    "from pathlib import Path"
   ]
  },
  {
   "cell_type": "markdown",
   "metadata": {},
   "source": [
    "First: declare some parameters!"
   ]
  },
  {
   "cell_type": "code",
   "execution_count": null,
   "metadata": {},
   "outputs": [],
   "source": [
    "# Declare the parameters\n",
    "conversations_json_path = Path(\"D:/data/programming/chatgpt-export-explorer/api/data/export/conversations.json\")\n",
    "output_path = \"data/sample_conversations.json\"\n",
    "n_conversations_in_sample = 100\n",
    "random_seed = 42"
   ]
  },
  {
   "cell_type": "markdown",
   "metadata": {},
   "source": [
    "Next: I'll create the sample. "
   ]
  },
  {
   "cell_type": "code",
   "execution_count": null,
   "metadata": {},
   "outputs": [],
   "source": [
    "# Seed the random number generator\n",
    "random.seed(random_seed)\n",
    "\n",
    "# Load the conversations\n",
    "with open(conversations_json_path, \"r\") as f:\n",
    "    conversations = json.load(f)\n",
    "\n",
    "# Sample the conversations\n",
    "sampled_conversations = random.sample(conversations, n_conversations_in_sample)\n",
    "\n",
    "# Save the sampled conversations\n",
    "output_path = Path(output_path)\n",
    "output_path.parent.mkdir(parents=True, exist_ok=True)\n",
    "with open(output_path, \"w\") as f:\n",
    "    json.dump(sampled_conversations, f)\n",
    "\n",
    "# Print the output path\n",
    "print(\n",
    "    f\"Created sample with {len(sampled_conversations)} conversations at {output_path}\"\n",
    ")"
   ]
  },
  {
   "cell_type": "code",
   "execution_count": null,
   "metadata": {},
   "outputs": [],
   "source": []
  }
 ],
 "metadata": {
  "kernelspec": {
   "display_name": ".venv",
   "language": "python",
   "name": "python3"
  },
  "language_info": {
   "codemirror_mode": {
    "name": "ipython",
    "version": 3
   },
   "file_extension": ".py",
   "mimetype": "text/x-python",
   "name": "python",
   "nbconvert_exporter": "python",
   "pygments_lexer": "ipython3",
   "version": "3.10.9"
  }
 },
 "nbformat": 4,
 "nbformat_minor": 2
}
